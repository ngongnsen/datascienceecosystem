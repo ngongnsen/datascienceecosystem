{
 "cells": [
  {
   "cell_type": "markdown",
   "id": "a3943d6c-444e-4e91-ac6e-bc3c2565d738",
   "metadata": {},
   "source": [
    "# Data Science Tools and Ecosystem"
   ]
  },
  {
   "cell_type": "markdown",
   "id": "60bb4bab-cc11-4994-b472-2d137cd0e224",
   "metadata": {
    "tags": []
   },
   "source": [
    "'In this notebook, Data Science Tools and Ecosystem are summarized'"
   ]
  },
  {
   "cell_type": "markdown",
   "id": "bbb64305-893c-4da2-8e50-2f061a3d42f3",
   "metadata": {},
   "source": [
    "*Objectives*\n",
    "-  List libraries in Data Science\n",
    "-  How to use a markdown cell\n",
    "- How to use a code cell\n",
    "- Creating a table using \n",
    "- Arithmetic expressions"
   ]
  },
  {
   "cell_type": "markdown",
   "id": "6bb5a693-bb72-453e-bdbe-4a096a9b6a68",
   "metadata": {},
   "source": [
    "Some of the most popular languages that Data Scientist use are:"
   ]
  },
  {
   "cell_type": "markdown",
   "id": "afd43f96-2e36-4d76-bb79-f54634eea585",
   "metadata": {},
   "source": [
    "1. Python\n",
    "2. SQL\n",
    "3. Java\n",
    "4. Julia\n",
    "5. Scala"
   ]
  },
  {
   "cell_type": "markdown",
   "id": "e22433c3-bf6c-4f56-a048-aa8ec49016d3",
   "metadata": {},
   "source": [
    "Some of the commonly used libraries used by Data Scientist includes:\n",
    "1. TensorFlow\n",
    "2. Numpy \n",
    "3. Pandas\n",
    "4. Matplotlib\n",
    "5. Keras"
   ]
  },
  {
   "cell_type": "markdown",
   "id": "995eca55-76ed-4557-8593-62394e2729b4",
   "metadata": {},
   "source": [
    "|Data Science Tools|\n",
    "--------------------\n",
    "| Jupyter |\n",
    "| Apache spark |\n",
    "| Rstudio |\n"
   ]
  },
  {
   "cell_type": "code",
   "execution_count": 2,
   "id": "d5dd6be5-b4da-432d-bbef-47cd56695ac1",
   "metadata": {
    "tags": []
   },
   "outputs": [
    {
     "data": {
      "text/plain": [
       "17"
      ]
     },
     "execution_count": 2,
     "metadata": {},
     "output_type": "execute_result"
    }
   ],
   "source": [
    "# This a simple arithmertic expression to multiply then add integers\n",
    "(3*4)+5"
   ]
  },
  {
   "cell_type": "code",
   "execution_count": 3,
   "id": "b5ae720c-40ab-4e04-8bd1-cd8ce8873c67",
   "metadata": {
    "tags": []
   },
   "outputs": [
    {
     "data": {
      "text/plain": [
       "3.3333333333333335"
      ]
     },
     "execution_count": 3,
     "metadata": {},
     "output_type": "execute_result"
    }
   ],
   "source": [
    "# This will convert 200 minutes to hours by dividing by 60\n",
    "200/60"
   ]
  },
  {
   "cell_type": "markdown",
   "id": "826350ec-2a81-4e42-bb6d-5890badc42b0",
   "metadata": {},
   "source": [
    "## Author\n",
    "NGONG SACKWAI NSEN\n"
   ]
  },
  {
   "cell_type": "code",
   "execution_count": null,
   "id": "e9876e24-af9d-409e-b064-83ef435900ae",
   "metadata": {},
   "outputs": [],
   "source": []
  }
 ],
 "metadata": {
  "kernelspec": {
   "display_name": "Python",
   "language": "python",
   "name": "conda-env-python-py"
  },
  "language_info": {
   "codemirror_mode": {
    "name": "ipython",
    "version": 3
   },
   "file_extension": ".py",
   "mimetype": "text/x-python",
   "name": "python",
   "nbconvert_exporter": "python",
   "pygments_lexer": "ipython3",
   "version": "3.7.12"
  }
 },
 "nbformat": 4,
 "nbformat_minor": 5
}
